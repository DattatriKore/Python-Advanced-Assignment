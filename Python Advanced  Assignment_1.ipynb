{
 "cells": [
  {
   "cell_type": "markdown",
   "id": "6b138e3f",
   "metadata": {},
   "source": [
    "Q.[1] : What is the purpose of Python's OOP?\n",
    "    \n",
    "Ans:- \n",
    "     \n",
    "      1. Object-Oriented Programming makes the program easy to understand as well as efficient.\n",
    "      \n",
    "      2. Since the class is sharable, the code can be reused.\n",
    "      \n",
    "      3. Data is safe and secure with data abstraction.\n",
    "      \n",
    "      4. Polymorphism allows the same interface for different objects, so programmers can write efficient code\n",
    "      \n",
    "      5. inherit feature allows programmer to inhetit the methods from existing programs."
   ]
  },
  {
   "cell_type": "markdown",
   "id": "14cbf9cb",
   "metadata": {},
   "source": [
    "Q.[2] : Where does an inheritance search look for an attribute?\n",
    "    \n",
    "Ans:- Python searches for an attribute in an upward tree of attributes. it first searches for the attribute in its instance and then looks in the class it is generated from, to all super classes listed in its class header"
   ]
  },
  {
   "cell_type": "markdown",
   "id": "3b1af29e",
   "metadata": {},
   "source": [
    "Q.[3] : How do you distinguish between a class object and an instance object?\n",
    "    \n",
    "Ans:- The differences between a class object and an instance object are\n",
    "    \n",
    "      1. Class is a template for creating objects whereas object is an instance of class\n",
    "        \n",
    "      2. Seperate memory is allocated for each object whenever an object is created. but for a class this doesnot happens.\n",
    "    \n",
    "      3. A Class is created once. Many objects are created using a class.\n",
    "        \n",
    "      4. As Classes have no allocated memory. they can't be manipulated. but objects can be manipulated."
   ]
  },
  {
   "cell_type": "markdown",
   "id": "60b8ce4d",
   "metadata": {},
   "source": [
    "Q.[4] : What makes the first argument in a class’s method function special?\n",
    "\n",
    "Ans:- The keyword self represents the instance of a class and binds the attributes with the given arguments"
   ]
  },
  {
   "cell_type": "markdown",
   "id": "3165211a",
   "metadata": {},
   "source": [
    "Q.[5] : What is the purpose of the __init__ method?\n",
    "    \n",
    "Ans:- __init__ is a reseved method in python classes. It serves the role of a constructor in object oriented terminology. This method is called when an object is created from a class and it allows the class to initialize the attributes of the class"
   ]
  },
  {
   "cell_type": "markdown",
   "id": "070f5dfb",
   "metadata": {},
   "source": [
    "Q.[6] : What is the process for creating a class instance?\n",
    "    \n",
    "Ans:- To create instances of a class,\n",
    "\n",
    "      1. Create a class\n",
    "      \n",
    "      2. call the class using class name and assign it to a variable (object variable)\n",
    "      \n",
    "      3. pass in whatever arguments its init method accepts"
   ]
  },
  {
   "cell_type": "code",
   "execution_count": 1,
   "id": "45987b6f",
   "metadata": {},
   "outputs": [],
   "source": [
    "class Employee:\n",
    "    empCount = 0\n",
    "\n",
    "    def __init__(self, name, salary):\n",
    "        self.name = name\n",
    "        self.salary = salary\n",
    "        Employee.empCount += 1\n",
    "        \n",
    "objClass = Employee('Dattatri','120000')"
   ]
  },
  {
   "cell_type": "markdown",
   "id": "f6b3190c",
   "metadata": {},
   "source": [
    "Q.[7] : What is the process for creating a class?\n",
    "    \n",
    "Ans:- process to create class\n",
    "\n",
    "      1. class definition starts with keyword class\n",
    "      \n",
    "      2. follwed by classname and ':'\n",
    "      \n",
    "      3. class will have doc string\n",
    "      \n",
    "      4. class should have at least one statements."
   ]
  },
  {
   "cell_type": "code",
   "execution_count": 3,
   "id": "c7c36021",
   "metadata": {},
   "outputs": [],
   "source": [
    "class MyNewClass:\n",
    "    '''This is a docstring. I have created a new class'''\n",
    "    pass"
   ]
  },
  {
   "cell_type": "markdown",
   "id": "73cf5de0",
   "metadata": {},
   "source": [
    "Q.[8] : How would you define the superclasses of a class?\n",
    "    \n",
    "Ans:- Superclass/Parent class is given as a arugment to the child class\n",
    "\n",
    "      Example: class Employee(Person): Here child class Employee inherits attributes and methods from Superclass/Parent Person"
   ]
  },
  {
   "cell_type": "code",
   "execution_count": null,
   "id": "bf64d022",
   "metadata": {},
   "outputs": [],
   "source": []
  }
 ],
 "metadata": {
  "kernelspec": {
   "display_name": "Python 3 (ipykernel)",
   "language": "python",
   "name": "python3"
  },
  "language_info": {
   "codemirror_mode": {
    "name": "ipython",
    "version": 3
   },
   "file_extension": ".py",
   "mimetype": "text/x-python",
   "name": "python",
   "nbconvert_exporter": "python",
   "pygments_lexer": "ipython3",
   "version": "3.9.13"
  }
 },
 "nbformat": 4,
 "nbformat_minor": 5
}
