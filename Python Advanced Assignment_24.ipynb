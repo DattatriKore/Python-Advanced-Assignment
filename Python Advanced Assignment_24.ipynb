{
 "cells": [
  {
   "cell_type": "markdown",
   "id": "7217637b",
   "metadata": {},
   "source": [
    "Q.[1] : Is it permissible to use several import statements to import the same module? What would the goal be? Can you think\n",
    "        of a situation where it would be beneficial?\n",
    "        \n",
    "Ans:- Yes, it is permissible to use several import statements to import the same module. It is used in case when we have to       import multiple functions from same module."
   ]
  },
  {
   "cell_type": "markdown",
   "id": "56791caf",
   "metadata": {},
   "source": [
    " Q.[2] : What are some of a module's characteristics? (Name at least one.)\n",
    "        \n",
    "Ans:- The following are some of a module's characteristics:\n",
    "\n",
    "      • __name__ : It returns the name of the module\n",
    "      • __doc__ :  It denotes the documentation string line written in a module code.\n",
    "      • __file__ : It holds the name and path of the module file from which it is loaded\n",
    "      • __dict__ : It return a dictionary object of module attributes, functions and other definitions and their respective                    values"
   ]
  },
  {
   "cell_type": "markdown",
   "id": "19b6f96a",
   "metadata": {},
   "source": [
    "Q.[3] : Circular importing, such as when two modules import each other, can lead to dependencies and bugs that aren't\n",
    "        visible. How can you go about creating a program that avoids mutual importing?\n",
    "        \n",
    "Ans:- Circular importing means importing the two modules in each other. If suppose we are wokring in MOD1.py file and it is importing some function say F2() from some other module say MOD2.PY file or we can do vice-versa. What will happen is: This will give an import error.\n",
    "\n",
    "This is because when we import F2() function from module MOD2.py, then this will execute MOD2.py file. And in MOD2.py file there is an another statement of importing MOD1.py module.\n",
    "\n",
    "This will result in endless loop. To avoid this error just do one thingWe can use if __name__ == '__main__'\n",
    "\n",
    "In the function, you can't directly refer to the function in the program. The addition of this sentence avoids the endless loop of the program ."
   ]
  },
  {
   "cell_type": "markdown",
   "id": "a6f0cc0c",
   "metadata": {},
   "source": [
    "Q.[4] : Why is _ _all_ _ in Python?\n",
    "    \n",
    "Ans:- It provides list of all modules present in a library."
   ]
  },
  {
   "cell_type": "markdown",
   "id": "af0f320a",
   "metadata": {},
   "source": [
    "Q.[5] : In what situation is it useful to refer to the _ _name_ _ attribute or the string '_ _main_ _'?\n",
    "    \n",
    "Ans:- During the time of execution of the code if we want to refer the module in which we are working on then we uses name attribute. In that case it will return the module in which we are working on. Suppose if that moudle is being imported from some other module then name will have the name of that moudle from where the current module has been imported. The current module in which we are working is refer to the string __main __."
   ]
  },
  {
   "cell_type": "markdown",
   "id": "14873147",
   "metadata": {},
   "source": [
    "Q.[6] : What are some of the benefits of attaching a program counter to the RPN interpreter application, which interprets \n",
    "        an RPN script line by line?\n",
    "        \n",
    "Ans:- RPN saves time and keystrokes. You avoid using and keeping track of parentheses while doing calculations. \n",
    "      The process is similar to the way you learned math on paper. You can see the intermediary results as you \n",
    "    perform your computations rather than just the answer at the end."
   ]
  },
  {
   "cell_type": "markdown",
   "id": "594c73d3",
   "metadata": {},
   "source": [
    "Q.[7] : What are the minimum expressions or statements (or both) that you'd need to render a basic programming language like\n",
    "        RPN primitive but complete— that is, capable of carrying out any computerised task theoretically possible?\n",
    "        \n",
    "Ans:- Notations  : +-/*\n",
    "\n",
    "       These are the basic notations we require to carry out a computerised task , like RPN Primitive.\n",
    "       We also need a particular data structure for storing elements from a statements except operators"
   ]
  },
  {
   "cell_type": "code",
   "execution_count": null,
   "id": "f5c8b752",
   "metadata": {},
   "outputs": [],
   "source": []
  }
 ],
 "metadata": {
  "kernelspec": {
   "display_name": "Python 3 (ipykernel)",
   "language": "python",
   "name": "python3"
  },
  "language_info": {
   "codemirror_mode": {
    "name": "ipython",
    "version": 3
   },
   "file_extension": ".py",
   "mimetype": "text/x-python",
   "name": "python",
   "nbconvert_exporter": "python",
   "pygments_lexer": "ipython3",
   "version": "3.9.13"
  }
 },
 "nbformat": 4,
 "nbformat_minor": 5
}
