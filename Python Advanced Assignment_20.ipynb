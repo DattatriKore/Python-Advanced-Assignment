{
 "cells": [
  {
   "cell_type": "markdown",
   "id": "18844902",
   "metadata": {},
   "source": [
    "Q.[1] : Compare and contrast the float and Decimal classes'benefits and drawbacks.\n",
    "    \n",
    "Ans:- Both the float and decimal types store numerical values in Python.\n",
    "\n",
    "Use floats when convenience and speed matter. A float gives you an approximation of the number you declare.\n",
    "\n",
    "Use decimals when precision matters. Decimals can suffer from their own precision issues, but generally, decimals are more precise than floats. The performance difference between float and decimal, with Python 3, is not outlandish, and in my experience, the precision benefits of a decimal outweigh the performance benefits of a float."
   ]
  },
  {
   "cell_type": "markdown",
   "id": "6c93bbd3",
   "metadata": {},
   "source": [
    "Q.[2] : Decimal('1.200') and Decimal('1.2') are two objects to consider. In what sense are these the same object? Are these\n",
    "        just two ways of representing the exact same value, or do they correspond to different internal states?\n",
    "        \n",
    "Ans:- Both values are same but internal representation at storage Is different. Precsion differs, Decimal('1.200') gives         internally 1.200 and Decimal('1.2') gives 1.2."
   ]
  },
  {
   "cell_type": "markdown",
   "id": "46222e22",
   "metadata": {},
   "source": [
    "Q.[3] : What happens if the equality of Decimal('1.200' and Decimal('1.2') is checked?\n",
    "                                                \n",
    "Ans:-  Both values are checked to be equal , they only differ in precision."
   ]
  },
  {
   "cell_type": "markdown",
   "id": "173e53aa",
   "metadata": {},
   "source": [
    "Q.[4] : Why is it preferable to start a Decimal object with a string rather than a floating-point value?\n",
    "    \n",
    "Ans:- Floating-point value is converted to Decimal format. Decimal can store float value with absolute precision. But when       float value is given as Decimal object,it first has to be converted from floating point value which might already           have rounding error.\n",
    "\n",
    "Hence it is preferable to start a Decimal object with a string."
   ]
  },
  {
   "cell_type": "markdown",
   "id": "b263c9e2",
   "metadata": {},
   "source": [
    "Q.[5] : In an arithmetic phrase, how simple is it to combine Decimal objects with integers?\n",
    "    \n",
    "Ans:- We can do it with use of Decimal()."
   ]
  },
  {
   "cell_type": "markdown",
   "id": "3558bc00",
   "metadata": {},
   "source": [
    "Q.[6] : Can Decimal objects and floating-point values be combined easily?\n",
    "    \n",
    "Ans:- Arithmetic operfations like Adding,subtracting or multiplying a Decimal object by a floating-point value is generates       an error.\n",
    "\n",
    "To do these operations, the floating point has to be converted to a Decimal."
   ]
  },
  {
   "cell_type": "markdown",
   "id": "47933cfb",
   "metadata": {},
   "source": [
    "Q.[7] : Using the Fraction class but not the Decimal class, give an example of a quantity that can be expressed with\n",
    "        absolute precision.\n",
    "        \n",
    "Ans:- Value of 0.5 will be represented as ½."
   ]
  },
  {
   "cell_type": "markdown",
   "id": "437b252e",
   "metadata": {},
   "source": [
    "Q.[8] : Describe a quantity that can be accurately expressed by the Decimal or Fraction classes but not by a floating-point\n",
    "        value.\n",
    "        \n",
    "Ans:- Both will be reduced to 1/2"
   ]
  },
  {
   "cell_type": "markdown",
   "id": "cb4a1e25",
   "metadata": {},
   "source": [
    "Q.[9] : Consider the following two fraction objects: Fraction(1, 2) and Fraction(1, 2). (5, 10). Is the internal state of\n",
    "        these two objects the same? Why do you think that is?\n",
    "        \n",
    "Ans:- Fraction class and integer type(int) are related in form of a container.It contains two ints, one the numerator and         the other the denominator"
   ]
  },
  {
   "cell_type": "markdown",
   "id": "30ff2cf9",
   "metadata": {},
   "source": [
    "Q.[10] : How do the Fraction class and the integer type (int) relate to each other? Containment or inheritance?\n",
    "    \n",
    "Ans:- Fraction class and integer type(int) are related in form of a container.\n",
    "      It contains two ints, one the numerator and the other the denominator."
   ]
  },
  {
   "cell_type": "code",
   "execution_count": 1,
   "id": "8437ff80",
   "metadata": {},
   "outputs": [
    {
     "name": "stdout",
     "output_type": "stream",
     "text": [
      "numerator is 1 <class 'int'>\n",
      "denominator is 2 <class 'int'>\n"
     ]
    }
   ],
   "source": [
    "from fractions import Fraction\n",
    "\n",
    "frac = Fraction(1,2)\n",
    "print('numerator is', frac.numerator,type(frac.numerator))\n",
    "print('denominator is', frac.denominator,type(frac.numerator) )"
   ]
  },
  {
   "cell_type": "code",
   "execution_count": null,
   "id": "e7431627",
   "metadata": {},
   "outputs": [],
   "source": []
  }
 ],
 "metadata": {
  "kernelspec": {
   "display_name": "Python 3 (ipykernel)",
   "language": "python",
   "name": "python3"
  },
  "language_info": {
   "codemirror_mode": {
    "name": "ipython",
    "version": 3
   },
   "file_extension": ".py",
   "mimetype": "text/x-python",
   "name": "python",
   "nbconvert_exporter": "python",
   "pygments_lexer": "ipython3",
   "version": "3.9.13"
  }
 },
 "nbformat": 4,
 "nbformat_minor": 5
}
